{
 "cells": [
  {
   "cell_type": "markdown",
   "source": [
    "# **QUESTION 1**"
   ],
   "metadata": {}
  },
  {
   "cell_type": "markdown",
   "source": [
    "Function which return PSNR value of modified image w.r.t original image"
   ],
   "metadata": {}
  },
  {
   "cell_type": "code",
   "execution_count": null,
   "source": [
    "# Importing required libraries\r\n",
    "import numpy as np\r\n",
    "\r\n",
    "def PSNR(original, modified):\r\n",
    "    R2 = np.amax(original)**2\r\n",
    "    MSE = np.sum(np.power(np.subtract(original, modified), 2))\r\n",
    "    MSE /= (original.size[0]*original.size[1])\r\n",
    "    val = 10*np.log10(R2/MSE)\r\n",
    "    return val"
   ],
   "outputs": [],
   "metadata": {}
  },
  {
   "cell_type": "code",
   "execution_count": null,
   "source": [
    "# Importing required libraries\r\n",
    "from PIL import Image\r\n",
    "import matplotlib.pyplot as plt\r\n",
    "\r\n",
    "# Loading Lena.png \r\n",
    "origLena = Image.open('lena.png')\r\n",
    "\r\n",
    "# Converting colored image to grayscale\r\n",
    "grayLena = origLena.convert('L')\r\n",
    "# display( grayLena )\r\n",
    "\r\n",
    "(x, y) = grayLena.size\r\n",
    "\r\n",
    "# scaling down original lena image\r\n",
    "halfgrayLena = grayLena.resize((x//2, y//2))\r\n",
    "# display( halfgrayLena )\r\n",
    "\r\n",
    "# scaling up using Image.NEAREST\r\n",
    "img1 = halfgrayLena.resize((x, y), resample=Image.NEAREST)\r\n",
    "\r\n",
    "# scaling up using Image.BILINEAR\r\n",
    "img2 = halfgrayLena.resize((x, y), resample=Image.BILINEAR)\r\n",
    "\r\n",
    "# scaling up using Image.BICUBIC\r\n",
    "img3 = halfgrayLena.resize((x, y), resample=Image.BICUBIC)\r\n",
    "\r\n",
    "# PSNR values of modified images\r\n",
    "psnr1 = PSNR(grayLena, img1)\r\n",
    "psnr2 = PSNR(grayLena, img2)\r\n",
    "psnr3 = PSNR(grayLena, img3)\r\n",
    "\r\n",
    "\r\n",
    "# Creates a plot with 1 row and 3 columns and display in the first position\r\n",
    "plt.figure(figsize = (15, 15))\r\n",
    "plt.subplot(1, 3, 1)\r\n",
    "plt.ylabel(\"Nearest Neighbour\")\r\n",
    "plt.xlabel(psnr1)\r\n",
    "plt.imshow( img1 , cmap = 'gray' )\r\n",
    "\r\n",
    "# Use the second place to display the grayscale image\r\n",
    "plt.subplot(1, 3, 2)\r\n",
    "plt.ylabel(\"BILINEAR\")\r\n",
    "plt.xlabel(psnr2)\r\n",
    "plt.imshow( img2, cmap = 'gray' )\r\n",
    "\r\n",
    "# Use the third place to display the grayscale image in gray map\r\n",
    "plt.subplot(1, 3, 3)\r\n",
    "plt.ylabel(\"BICUBIC\")\r\n",
    "plt.xlabel(psnr3)\r\n",
    "plt.imshow( img3, cmap = 'gray' )\r\n"
   ],
   "outputs": [],
   "metadata": {}
  },
  {
   "cell_type": "markdown",
   "source": [
    "# **QUESTION 2**"
   ],
   "metadata": {}
  },
  {
   "cell_type": "markdown",
   "source": [
    "1. \"ImNegative\" function takes an image as input and returns the corresponding photographic negative image as an output."
   ],
   "metadata": {}
  },
  {
   "cell_type": "code",
   "execution_count": null,
   "source": [
    "from PIL import ImageOps\r\n",
    "\r\n",
    "def ImNegative(original):\r\n",
    "    negative = ImageOps.invert(original)\r\n",
    "    return negative\r\n",
    "\r\n",
    "# def ImNegative(original):\r\n",
    "#     negative = original.copy()\r\n",
    "#     for r in range(original.size[0]):\r\n",
    "#         for c in range(original.size[1]):\r\n",
    "#             neg = abs(original.getpixel((r, c)) - 255)\r\n",
    "#             negative.putpixel((r, c), neg)\r\n",
    "#     return negative"
   ],
   "outputs": [],
   "metadata": {}
  },
  {
   "cell_type": "markdown",
   "source": [
    "Converting Lena.png into grayscale image. And further converting that grayscale into Photographic negative."
   ],
   "metadata": {}
  },
  {
   "cell_type": "code",
   "execution_count": null,
   "source": [
    "import matplotlib.pyplot as plt\r\n",
    "\r\n",
    "# Loading lena.png\r\n",
    "origLena = Image.open('lena.png')\r\n",
    "\r\n",
    "# Converting colored image to grayscale.\r\n",
    "grayLena = origLena.convert('L')\r\n",
    "\r\n",
    "# Photographic Negative of grayscale lena.\r\n",
    "negLena = ImNegative(grayLena)\r\n",
    "\r\n",
    "# Creates a plot with 1 row and 2 columns and display in the first position\r\n",
    "plt.figure( figsize= (10, 10))\r\n",
    "\r\n",
    "plt.subplot(1, 2, 1)\r\n",
    "plt.ylabel(\"\")\r\n",
    "plt.xlabel(\"Negative\")\r\n",
    "plt.imshow( negLena , cmap = 'gray' )\r\n",
    "\r\n",
    "# Use the second place to display the grayscale image\r\n",
    "plt.subplot(1, 2, 2)\r\n",
    "plt.ylabel(\"\")\r\n",
    "plt.xlabel(\"Grayscale\")\r\n",
    "plt.imshow( grayLena , cmap = 'gray' )"
   ],
   "outputs": [],
   "metadata": {}
  },
  {
   "cell_type": "markdown",
   "source": [
    "# **QUESTION 3**"
   ],
   "metadata": {}
  },
  {
   "cell_type": "markdown",
   "source": [
    "Defining ChSwap function that takes color image as input and returns the corresponding output image, in which the R, G, B channels are swapped. (B -> R, R -> G, G -> B)"
   ],
   "metadata": {}
  },
  {
   "cell_type": "code",
   "execution_count": null,
   "source": [
    "def ChSwap(original):\r\n",
    "    swapped = original.copy()\r\n",
    "    for r in range(swapped.size[0]):\r\n",
    "        for c in range(swapped.size[1]):\r\n",
    "            (Red, Green, Blue) = original.getpixel((r, c))\r\n",
    "            (outRed, outGreen, outBlue) = (Blue, Red, Green)\r\n",
    "            swapped.putpixel((r, c), (outRed, outGreen, outBlue))\r\n",
    "    return swapped"
   ],
   "outputs": [],
   "metadata": {}
  },
  {
   "cell_type": "code",
   "execution_count": null,
   "source": [
    "# Loading Lena.png\r\n",
    "origLena = Image.open('lena.png')\r\n",
    "\r\n",
    "# Swapping R,G,B channels of original image\r\n",
    "swappedLena = ChSwap(origLena)\r\n",
    "\r\n",
    "# Creates a plot with 1 row and 2 columns and display in the first position\r\n",
    "plt.figure( figsize= (10, 10))\r\n",
    "\r\n",
    "plt.subplot(1, 2, 1)\r\n",
    "plt.ylabel(\"\")\r\n",
    "plt.xlabel(\"SwappedLena\")\r\n",
    "plt.imshow( swappedLena)\r\n",
    "\r\n",
    "# Use the second place to display the swapped image\r\n",
    "plt.subplot(1, 2, 2)\r\n",
    "plt.ylabel(\"\")\r\n",
    "plt.xlabel(\"Original\")\r\n",
    "plt.imshow( origLena)"
   ],
   "outputs": [],
   "metadata": {}
  }
 ],
 "metadata": {
  "orig_nbformat": 4,
  "language_info": {
   "name": "python",
   "version": "3.9.4",
   "mimetype": "text/x-python",
   "codemirror_mode": {
    "name": "ipython",
    "version": 3
   },
   "pygments_lexer": "ipython3",
   "nbconvert_exporter": "python",
   "file_extension": ".py"
  },
  "kernelspec": {
   "name": "python3",
   "display_name": "Python 3.9.4 64-bit"
  },
  "interpreter": {
   "hash": "61ddf0d45a5586965624109b5eae341e1a3c90a3a3e7b1d4cd094f1861f3d9d6"
  }
 },
 "nbformat": 4,
 "nbformat_minor": 2
}