{
  "nbformat": 4,
  "nbformat_minor": 2,
  "metadata": {
    "colab": {
      "name": "DIPA Introduction-1.ipynb",
      "provenance": []
    },
    "kernelspec": {
      "name": "python3",
      "display_name": "Python 3.9.4 64-bit"
    },
    "language_info": {
      "name": "python",
      "version": "3.9.4",
      "mimetype": "text/x-python",
      "codemirror_mode": {
        "name": "ipython",
        "version": 3
      },
      "pygments_lexer": "ipython3",
      "nbconvert_exporter": "python",
      "file_extension": ".py"
    },
    "interpreter": {
      "hash": "61ddf0d45a5586965624109b5eae341e1a3c90a3a3e7b1d4cd094f1861f3d9d6"
    }
  },
  "cells": [
    {
      "cell_type": "markdown",
      "source": [
        "# **Introduction to Image Processing in Python**\r\n",
        "\r\n",
        "Python provides several libraries for image processing, including − OpenCV, Pillow, Scikit-image, SimpleITK, etc.\r\n",
        "\r\n",
        "This module introduces simple image processing using the Pillow (PIL) library. It includes several techniques such as point operations, filtering, manipulation and more. It also supports a wide range of image formats.\r\n",
        "\r\n",
        "A more comprehensive tutorial on image processing with Pillow can be found here:\r\n",
        "https://pillow.readthedocs.io/en/stable/handbook/tutorial.html\r\n",
        "\r\n"
      ],
      "metadata": {
        "id": "NMvz3-UB4zBk"
      }
    },
    {
      "cell_type": "code",
      "execution_count": null,
      "source": [
        "#Import required library\r\n",
        "from PIL import Image\r\n",
        "\r\n",
        "#Open/Load image using 'Image' module\r\n",
        "#Provide both name and path to the image file\r\n",
        "imLena = Image.open('lena.png')\r\n",
        "\r\n",
        "#Show the image (saved in variable 'ImgLena')\r\n",
        "# imLena.show()\r\n",
        "\r\n",
        "# If the above line does not work in Google Colab, please try the following line\r\n",
        "display( imLena )"
      ],
      "outputs": [],
      "metadata": {
        "colab": {
          "base_uri": "https://localhost:8080/",
          "height": 357
        },
        "id": "ILUwvpcI4uqJ",
        "outputId": "2c27fcc8-8b73-411a-bdbe-8dabbdf69428"
      }
    },
    {
      "cell_type": "markdown",
      "source": [
        "Now, let's find some properties of this image:"
      ],
      "metadata": {
        "id": "tL8Be8n2CEZ3"
      }
    },
    {
      "cell_type": "code",
      "execution_count": null,
      "source": [
        "# Print size of the image\r\n",
        "print('Dimensions of Lena are: ', imLena.size)\r\n",
        " \r\n",
        "# Prirnt format of the image\r\n",
        "print('Format of Lena is: ', imLena.format)\r\n",
        "\r\n",
        "\r\n",
        "# Print intensity mode of the image:\r\n",
        "# 1\t1-bit pixels, black and white\r\n",
        "# L\t8-bit pixels, Greyscale\r\n",
        "# P\t8-bit pixels, mapped to any other mode using a color palette\r\n",
        "# RGB\t3×8-bit pixels, true color\r\n",
        "# RGBA\t4×8-bit pixels, true color with transparency mask\r\n",
        "print('Mode of Lena is: ', imLena.mode)"
      ],
      "outputs": [],
      "metadata": {
        "colab": {
          "base_uri": "https://localhost:8080/"
        },
        "id": "D9ssSFkYAajJ",
        "outputId": "c3e1f494-f48f-4e71-bd9d-0f6e7b52a9b3"
      }
    },
    {
      "cell_type": "markdown",
      "source": [
        "Let's try rotating the image:"
      ],
      "metadata": {
        "id": "0zQENVlOCghX"
      }
    },
    {
      "cell_type": "code",
      "execution_count": null,
      "source": [
        "import PIL\r\n",
        "\r\n",
        "# Rotating an image by 90 degrees counter clockwise\r\n",
        "imLena90 = imLena.rotate(0, PIL.Image.LANCZOS, expand = 1)\r\n",
        " \r\n",
        "# Show the rotated Image\r\n",
        "# imLena90.show()\r\n",
        "display( imLena90 )"
      ],
      "outputs": [],
      "metadata": {
        "colab": {
          "base_uri": "https://localhost:8080/",
          "height": 717
        },
        "id": "SFtM3Dp6CEGQ",
        "outputId": "aa042b98-6ac1-4202-8bbe-f00d01d7f6b2"
      }
    },
    {
      "cell_type": "code",
      "execution_count": null,
      "source": [
        "# Flip the original image vertically\r\n",
        "imLenaVert = imLena.transpose( method=Image.FLIP_TOP_BOTTOM )\r\n",
        "\r\n",
        "# Flip the original image horizontally\r\n",
        "imLenaHorz = imLena.transpose( method=Image.FLIP_LEFT_RIGHT )\r\n",
        "\r\n",
        "# Show the flipped Images\r\n",
        "# imLena90.show()\r\n",
        "display( imLenaVert )\r\n",
        "display( imLenaHorz )"
      ],
      "outputs": [],
      "metadata": {
        "colab": {
          "base_uri": "https://localhost:8080/",
          "height": 1000
        },
        "id": "TsV8WvnaC_zu",
        "outputId": "3f156ff4-fc24-43e7-d871-755a15220997"
      }
    },
    {
      "cell_type": "markdown",
      "source": [
        "Time to try resizing the image."
      ],
      "metadata": {
        "id": "SahxNPBYEEgf"
      }
    },
    {
      "cell_type": "code",
      "execution_count": null,
      "source": [
        "# Original size of Lena is 512 x 512\r\n",
        "# RESIZE - Shrinks or Expands the original image\r\n",
        "# Let's resize(shrink/sub-sample) it to 200 x 200\r\n",
        "imLenaSmall = imLena.resize( (200, 200) )\r\n",
        "\r\n",
        "# Let's resize(expand/super-sample) it to 1024 x 1024\r\n",
        "imLenaBig = imLena.resize( (1024, 1024) )\r\n",
        "\r\n",
        "# Display the resized images\r\n",
        "display( imLenaSmall )\r\n",
        "display( imLenaBig )\r\n"
      ],
      "outputs": [],
      "metadata": {
        "colab": {
          "base_uri": "https://localhost:8080/",
          "height": 1000
        },
        "id": "4R5vGF22EHtu",
        "outputId": "99c92db9-a583-4312-d05d-f6fbefc1448a"
      }
    },
    {
      "cell_type": "markdown",
      "source": [
        "Instead of resizing, let's try cropping:\n",
        "(Play around with the setting for cropped image...)\n"
      ],
      "metadata": {
        "id": "oXFdlwIyFvMe"
      }
    },
    {
      "cell_type": "code",
      "execution_count": null,
      "source": [
        "# CROP - Removes part of the image\r\n",
        "\r\n",
        "# Size of the original image in pixels\r\n",
        "Sx, Sy = imLena.size\r\n",
        " \r\n",
        "# Setting the points for cropped image\r\n",
        "# left = 4\r\n",
        "# top = Sy / 5\r\n",
        "# right = 254\r\n",
        "# bottom = 3 * Sx / 5\r\n",
        "top = 250\r\n",
        "bottom = 280\r\n",
        "left = 0\r\n",
        "right = 512\r\n",
        " \r\n",
        "# Cropped image of above dimension\r\n",
        "# (It will not change original image)\r\n",
        "imLenaCrop = imLena.crop((left, top, right, bottom))\r\n",
        "\r\n",
        "# Display the cropped images\r\n",
        "display( imLenaCrop )"
      ],
      "outputs": [],
      "metadata": {
        "colab": {
          "base_uri": "https://localhost:8080/",
          "height": 222
        },
        "id": "lDGM2lbSFyad",
        "outputId": "48d2a9a6-fd9f-49f1-c3a0-4240b04886d2"
      }
    }
  ]
}